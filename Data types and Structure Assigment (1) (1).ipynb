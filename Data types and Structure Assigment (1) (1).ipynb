{
 "cells": [
  {
   "cell_type": "raw",
   "id": "593e2ca2-613c-4ae8-b714-b5baaf0a0fcc",
   "metadata": {},
   "source": [
    "                  Data Types and Structures Questions."
   ]
  },
  {
   "cell_type": "code",
   "execution_count": null,
   "id": "f73e8cb9-65f5-45e7-a972-77fc62386abb",
   "metadata": {},
   "outputs": [],
   "source": [
    "                  Theoretical Questions."
   ]
  },
  {
   "cell_type": "raw",
   "id": "26fb4e03-10bf-46fb-80c4-83fa43806ff8",
   "metadata": {},
   "source": [
    "Ques 1) What are Data Structures, And why are they important?\n",
    " \n",
    "Ans 1) A Data Structure is a way of organizing and storing data so that it can be accessed and modified efficiently.\n",
    "It’s like choosing the right container for your data—just like you choose a backpack, drawer, or toolbox based on what you need to store.\n",
    "    Why it's Important-\n",
    "Efficient Data Access\n",
    "→ Helps you find, retrieve, or update data quickly.\n",
    "→ Prevents wastage of memory and allows large data to be handled effectively.\n",
    "→ Leads to faster and cleaner code, especially in big programs and apps.\n"
   ]
  },
  {
   "cell_type": "raw",
   "id": "513c73b5-a9aa-4bc4-9e2d-ea65c37447b5",
   "metadata": {},
   "source": [
    "Ques 2) Explain the Difference Between Mutable and Immutable data types.\n",
    "\n",
    "Ans 2) Mutable Data types-\n",
    "Mutable data types can be changed (modified) after creation.\n",
    "\n",
    "Examples:\n",
    "List (list).\n",
    "Dictionary (dict).\n",
    "Set (set).\n",
    "        Immutable Data Types-\n",
    "Immutable data types cannot be changed once they are created. Any modification creates a new object.\n",
    "\n",
    "Examples:\n",
    "Integer (int).\n",
    "Float (float).\n",
    "String (str).\n",
    "Tuple (tuple).\n",
    "Boolean (bool)."
   ]
  },
  {
   "cell_type": "raw",
   "id": "05e49b24-467c-4561-82b3-1c6fed7453d3",
   "metadata": {},
   "source": [
    "Ques 3) What are the main difference between lists and tuples in Python?\n",
    "\n",
    "Ans 3) | Feature               | List                            | Tuple                          |\n",
    "| --------------------- | ----------------------------------- | ----------------------------------- |\n",
    "| Mutability       |  Mutable (can be changed)      |  Immutable (cannot be changed) |\n",
    "| Syntax           | Uses square brackets `[]`           | Uses parentheses `()`               |\n",
    "| Performance      | Slower (more flexible)              | Faster (less flexible)              |\n",
    "| Methods Available | More (e.g., `append()`, `remove()`) | Fewer methods                       |\n",
    "| Use Case          | When data needs to change           | When data should stay constant      |\n",
    "| Memory Usage      | Takes more memory                   | Takes less memory                   |\n",
    "\n",
    "\n"
   ]
  },
  {
   "cell_type": "raw",
   "id": "52d40a01-28b7-4ee2-8e1a-8fd122c13e33",
   "metadata": {},
   "source": [
    "Ques 4) Describe how dictionaries store data.\n",
    "\n",
    "Ans 4) In Python, dictionaries store data using a structure called a hash table, which allows them to organize information in key-value pairs. Each key in the dictionary must be unique and immutable (like strings, numbers, or tuples), while the values can be of any data type. When a key-value pair is added to the dictionary, the key is passed through a hash function that converts it into a unique hash code."
   ]
  },
  {
   "cell_type": "raw",
   "id": "a5648dcc-5c27-4bbf-aa04-2ffcb6dcba1c",
   "metadata": {},
   "source": [
    "Ques 5)Why might you use a set instead of a list in Python?\n",
    "\n",
    "Ans 5) In Python when you need to store a collection of unique elements and do not care about the order of those elements. Sets automatically remove duplicates, which makes them useful for tasks like filtering repeated values from a list. Additionally, sets provide faster performance for checking if an item exists within the collection, thanks to their underlying hash table implementation."
   ]
  },
  {
   "cell_type": "raw",
   "id": "0f07a0c0-71d1-4937-aace-44f6bc2b694d",
   "metadata": {},
   "source": [
    "Ques 6) What  is a string in Python, and how is it different from a list?\n",
    "\n",
    "Ans 6) A string in Python is a sequence of characters enclosed in single quotes (''), double quotes (\"\"), or triple quotes (''' or \"\"\").\n",
    "It is used to store textual data such as words, sentences, or symbols."
   ]
  },
  {
   "cell_type": "raw",
   "id": "146e57c5-234b-4338-af26-8c296aa791fb",
   "metadata": {},
   "source": [
    "Ques 7) How do tuples ensures data integrity in Python?\n",
    "\n",
    "Ans 7) Tuples in Python help ensure data integrity by being immutable, which means their elements cannot be changed, added, or removed after creation.\n",
    "\n",
    "What is Data Integrity?\n",
    "Data integrity means keeping data accurate, consistent, and unchanged unless specifically intended. It's important when you don’t want your data to be accidentally modified."
   ]
  },
  {
   "cell_type": "raw",
   "id": "bc0907dd-668f-4a12-91cf-a788d62aec3d",
   "metadata": {},
   "source": [
    "Ques 8) What is a hash table, and how does it relatable to dictionaries in Python?\n",
    "\n",
    "Ans 8) A hash table is a data structure that stores data in a key-value format using a process called hashing.\n",
    "It uses a hash function to convert a key (like a name or ID) into a unique index (called a hash code), which determines where the corresponding value is stored in memory.\n",
    "\n",
    " How Does It Work?\n",
    "-You provide a key (e.g., \"name\").\n",
    "-The key is passed through a hash function → gives a number (hash code).\n",
    "-This number decides the index in memory where the value is stored."
   ]
  },
  {
   "cell_type": "raw",
   "id": "89cb2d16-995f-4494-859e-9614dedede96",
   "metadata": {},
   "source": [
    "Ques 9) Can list contain different data types in Python?\n",
    "\n",
    "Ans 9) Yes, in Python, a list can contain different data types all at once. Unlike arrays in some other languages, Python lists are heterogeneous, meaning they can store elements like integers, strings, floats, objects, and even other lists together."
   ]
  },
  {
   "cell_type": "raw",
   "id": "bcce2ea5-fbe3-49b4-b674-1844219749b4",
   "metadata": {},
   "source": [
    "Ques 10) Explain why strings are immutable in Python? \n",
    "\n",
    "Ans 10) Strings in Python are immutable, meaning once a string is created, it cannot be changed. This design choice is intentional and has several important reasons:\n",
    "\n",
    "-Security and Safety\n",
    "Immutability ensures that strings remain constant throughout the program, preventing accidental or malicious changes, especially when strings are used as keys in dictionaries or elements in sets.\n",
    "\n",
    "-Performance Optimization\n",
    "Because strings don’t change, Python can optimize memory usage by interning strings—reusing the same immutable string object instead of creating multiple copies.\n",
    "\n",
    "-Hashing and Dictionary Keys\n",
    "Immutable objects like strings have a fixed hash value, which is essential for their use as keys in hash-based data structures like dictionaries and sets. If strings were mutable, their hash could change, causing inconsistencies.\n",
    "\n"
   ]
  },
  {
   "cell_type": "raw",
   "id": "ecdd461c-235b-476b-8699-c94af6c812f4",
   "metadata": {},
   "source": [
    "Ques 11) What advantages do dictionaries offer over list for certain tasks?\n",
    "\n",
    "Ans 11) Fast Lookups by Key:\n",
    "Dictionaries provide quick access to values using keys, typically in constant time (O(1)), while lists require searching through elements, which takes linear time (O(n)).\n",
    "\n",
    "Key-Value Pair Storage:\n",
    "Dictionaries store data as key-value pairs, making it easier to represent relationships and access data using meaningful keys instead of just numeric indexes like in lists.\n",
    "\n",
    "Unique Keys:\n",
    "Dictionary keys are unique, helping to prevent duplicate entries and enabling direct access to specific data without scanning the entire collection."
   ]
  },
  {
   "cell_type": "raw",
   "id": "25dd51db-ed43-4b92-90b7-27829e327c85",
   "metadata": {},
   "source": [
    "Ques 12) Describe a scenario where using a tuple would be preferable over a list.\n",
    "\n",
    "Ans 12)Suppose you are working on a program that stores the coordinates of fixed geographical locations, like the latitude and longitude of cities. These coordinates should never change once set because they represent a specific point on the map.\n",
    "\n",
    "In this case, using a tuple is preferable because:\n",
    "\n",
    "Immutability: Tuples are immutable, so the coordinates can’t be accidentally modified after creation, ensuring data integrity.\n",
    "\n",
    "Fixed Size: The number of elements (latitude and longitude) is fixed and will not change, which matches tuple behavior perfectly."
   ]
  },
  {
   "cell_type": "raw",
   "id": "4859b24e-27d1-4946-ac5f-ee6d7c47f85b",
   "metadata": {},
   "source": [
    "Ques 13) How do sets handle duplicate values in Python?\n",
    "\n",
    "Ans 13) In Python, sets automatically eliminate duplicate values. When you add elements to a set, it only keeps one copy of each unique item, so any duplicates are removed. This is because sets are designed to store unordered collections of unique elements."
   ]
  },
  {
   "cell_type": "raw",
   "id": "78028f14-e4ba-4a31-9875-e3d9dff69c1e",
   "metadata": {},
   "source": [
    "Ques 14) How does the \"in\" keyword work differently for list and dictionaries.\n",
    "\n",
    "Ans 14) Using in with a List\n",
    "Checks if a value exists anywhere in the list.\n",
    "\n",
    "It searches through all elements until it finds a match.\n",
    "\n",
    "Time complexity is O(n) — it may need to check every item.\n",
    "\n",
    "python.\n",
    "Copy.\n",
    "Edit.\n"
   ]
  },
  {
   "cell_type": "raw",
   "id": "4feb55cc-252a-482e-a97b-2e4adf94745a",
   "metadata": {},
   "source": [
    "Ques 15) Can you modify the element of a tuple? Explain why or why not?\n",
    "\n",
    "Ans 15) No, you cannot modify the elements of a tuple in Python because tuples are immutable.\n",
    "\n",
    "What Does Immutable Mean?\n",
    "Immutable means once a tuple is created, its content cannot be changed, added, or removed.\n",
    "\n",
    "This is a key property of tuples that differentiates them from lists, which are mutable (can be changed).\n",
    "\n",
    "Why Are Tuples Immutable?\n",
    "Data Integrity: Prevents accidental modification of data that should remain constant.\n",
    "\n",
    "Hashability: Because tuples don’t change, they can be used as keys in dictionaries or elements in sets.\n",
    "\n",
    "Performance: Immutability allows Python to optimize storage and improve performance."
   ]
  },
  {
   "cell_type": "raw",
   "id": "84e9f3e3-481f-41d9-9c5b-687135cb2043",
   "metadata": {},
   "source": [
    "Ques 16) What is a nested dictionary, and give an example of it use and case?\n",
    "\n",
    "Ans 16) A nested dictionary in Python is a dictionary where some of the values are themselves dictionaries. This allows you to represent complex, hierarchical data by organizing related information inside sub-dictionaries.\n",
    "\n",
    "Use Case:\n",
    "Imagine managing a student database where each student has multiple attributes, and some of those attributes (like grades or address) contain multiple details themselves. Using nested dictionaries helps keep this data organized and easy to access.\n",
    "\n"
   ]
  },
  {
   "cell_type": "raw",
   "id": "4277714b-4422-46ac-9420-a6fef0ef3b7b",
   "metadata": {},
   "source": [
    "Ques 17) Describe the time complexity of accessing elements in a dictionary.\n",
    "\n",
    "Ans 17) Time Complexity of Accessing Elements in a Dictionary\n",
    "Accessing elements in a Python dictionary by key generally has a time complexity of O(1), meaning it takes constant time regardless of the size of the dictionary.\n"
   ]
  },
  {
   "cell_type": "raw",
   "id": "0f101642-82bc-40d5-b966-ea9cd84bb7f0",
   "metadata": {},
   "source": [
    "Ques 18) In what situation are lists prefered over dictionaries?\n",
    "\n",
    "Ans 18 Order Matters:\n",
    "Lists maintain the order of elements, so if you need to keep data in a specific sequence or process items by position, lists are better.\n",
    "\n",
    "Indexed Access by Position:\n",
    "When you want to access elements by their numeric index (e.g., first, second, third item), lists provide direct indexing like my_list[0].\n",
    "\n",
    "Simple Collections of Items:\n",
    "If you’re just storing a collection of items without needing key-value pairs or complex lookups, lists are simpler and more straightforward.\n",
    "\n",
    "Duplicates Allowed:\n",
    "Lists allow duplicate elements, while dictionary keys must be unique.\n"
   ]
  },
  {
   "cell_type": "raw",
   "id": "7c3ce9b1-8efc-4224-809c-ed7693a190bf",
   "metadata": {},
   "source": [
    "Ques 19) Why are dictionaries considered unordered, and how does the affect that data retrieval?\n",
    "\n",
    "Ans 19)- Traditionally, dictionaries in Python were unordered collections, meaning the items (key-value pairs) did not maintain any specific order.\n",
    "\n",
    "-The internal structure of a dictionary is based on a hash table, which focuses on fast access rather than preserving the order of insertion.\n",
    "\n",
    "-Because the keys are stored according to their hash values, the order of items could appear random and change when items are added or removed.\n",
    "\n"
   ]
  },
  {
   "cell_type": "raw",
   "id": "9a14cdd1-ba80-403f-bbe3-b985b484144f",
   "metadata": {},
   "source": [
    " Ques 20)  Explain the difference between  a list and a dictionary  in terms data retrieval.\n",
    "\n",
    "Ans 20) Retrieval\n",
    "Access Method:\n",
    "\n",
    "List: Data is accessed by index position (e.g., my_list[2] to get the third item).\n",
    "\n",
    "Dictionary: Data is accessed by key (e.g., my_dict[\"name\"] to get the value for \"name\").\n",
    "\n",
    "-Retrieval Speed:\n",
    "\n",
    "List: Retrieving an element by index is fast (O(1)).\n",
    "\n",
    "-Dictionary: Retrieving a value by key is also fast (average O(1)) due to hashing.\n",
    "\n",
    "Search by Value:\n",
    "\n",
    "List: To check if a value exists, Python searches through all elements, which takes O(n) time.\n",
    "\n",
    "Dictionary: Checking if a key exists is very fast (O(1)).\n",
    "\n",
    "-Ordering:\n",
    "\n",
    "List: Maintains order of elements, so data retrieval by position is predictable.\n",
    "\n",
    "Dictionary: Starting from Python 3.7, maintains insertion order for keys but is mainly optimized for key-based retrieval."
   ]
  },
  {
   "cell_type": "code",
   "execution_count": null,
   "id": "773b543d-3d5c-4b6c-b822-cfef0f62397d",
   "metadata": {},
   "outputs": [],
   "source": []
  },
  {
   "cell_type": "code",
   "execution_count": null,
   "id": "967fc49c-3be7-420d-9206-6a3d206f6e7d",
   "metadata": {},
   "outputs": [],
   "source": []
  },
  {
   "cell_type": "raw",
   "id": "fccaca82-deb1-43f5-80e4-1f312f1aab56",
   "metadata": {},
   "source": [
    "                      # Data Types and Structures Questions.\n"
   ]
  },
  {
   "cell_type": "raw",
   "id": "28725782-b079-46e7-b9ae-7f620721c8f2",
   "metadata": {},
   "source": [
    "                        # Practical Questions."
   ]
  },
  {
   "cell_type": "raw",
   "id": "e3e2beb8-5af3-48ce-86ca-a7565cc5ce4d",
   "metadata": {},
   "source": [
    "Ques 1)  Write a code to create a strings with your name and print it."
   ]
  },
  {
   "cell_type": "code",
   "execution_count": 2,
   "id": "2c35a893-91cd-4b44-aa90-a7350d70f83f",
   "metadata": {},
   "outputs": [
    {
     "name": "stdout",
     "output_type": "stream",
     "text": [
      "Zoya\n"
     ]
    }
   ],
   "source": [
    "\n",
    "name = \"Zoya Khan\"\n",
    "\n",
    "# Print the string\n",
    "print(\"Zoya\")\n"
   ]
  },
  {
   "cell_type": "raw",
   "id": "98ae5547-f8cc-45bd-ae24-0e04ee824a99",
   "metadata": {},
   "source": [
    "Ques 2) Write a code to find the length of the string \"Hello World\"."
   ]
  },
  {
   "cell_type": "code",
   "execution_count": 3,
   "id": "9460091f-562b-4610-800f-d8c803543751",
   "metadata": {},
   "outputs": [
    {
     "name": "stdout",
     "output_type": "stream",
     "text": [
      "Length of the string: 11\n"
     ]
    }
   ],
   "source": [
    "my_string = \"Hello World\"\n",
    "length = len(my_string)\n",
    "print(\"Length of the string:\", length)\n"
   ]
  },
  {
   "cell_type": "code",
   "execution_count": null,
   "id": "1ca16486-bdc6-474e-8a42-ff330bf706ae",
   "metadata": {},
   "outputs": [],
   "source": [
    "Ques 3) Write a code to slice the first 3 character from the string \"Python Programming\"."
   ]
  },
  {
   "cell_type": "code",
   "execution_count": 4,
   "id": "920b78f4-bbf4-46ce-88ae-f5c789319de5",
   "metadata": {},
   "outputs": [
    {
     "name": "stdout",
     "output_type": "stream",
     "text": [
      "First 3 characters: Pyt\n"
     ]
    }
   ],
   "source": [
    "text = \"Python Programming\"\n",
    "first_three = text[:3]\n",
    "print(\"First 3 characters:\", first_three)\n"
   ]
  },
  {
   "cell_type": "raw",
   "id": "d0b1c58b-af9c-4bbf-a06a-f2781c2576d2",
   "metadata": {},
   "source": [
    "Ques 4) Write a code to convert the string \"hello\" to uppercase."
   ]
  },
  {
   "cell_type": "code",
   "execution_count": 5,
   "id": "c9aa3b2f-d00e-4805-8a27-b2901d061243",
   "metadata": {},
   "outputs": [
    {
     "name": "stdout",
     "output_type": "stream",
     "text": [
      "Uppercase: HELLO\n"
     ]
    }
   ],
   "source": [
    "text = \"hello\"\n",
    "uppercase_text = text.upper()\n",
    "print(\"Uppercase:\", uppercase_text)\n"
   ]
  },
  {
   "cell_type": "raw",
   "id": "1e24b3f0-2ceb-478f-8ac9-696f96539aaa",
   "metadata": {},
   "source": [
    "Ques 5) Write a code to replace the word \"Apple\" with \"Orange\" in the string \"I like apple\"."
   ]
  },
  {
   "cell_type": "code",
   "execution_count": 6,
   "id": "28e9e3dd-820a-495a-a6c8-1bb434c0e23c",
   "metadata": {},
   "outputs": [
    {
     "name": "stdout",
     "output_type": "stream",
     "text": [
      "I like Orange\n"
     ]
    }
   ],
   "source": [
    "text = \"I like apple\"\n",
    "updated_text = text.replace(\"apple\", \"Orange\")\n",
    "print(updated_text)\n"
   ]
  },
  {
   "cell_type": "raw",
   "id": "6da4eb72-a01f-4d83-8c57-c50830b9b08f",
   "metadata": {},
   "source": [
    "Ques 6)  Write a code to create a list with numbers 1 to 5 and print it."
   ]
  },
  {
   "cell_type": "code",
   "execution_count": 7,
   "id": "1b2c660a-a18d-4f48-be3e-f59ab2ff8a33",
   "metadata": {},
   "outputs": [
    {
     "name": "stdout",
     "output_type": "stream",
     "text": [
      "[1, 2, 3, 4, 5]\n"
     ]
    }
   ],
   "source": [
    "numbers = [1, 2, 3, 4, 5]\n",
    "print(numbers)\n"
   ]
  },
  {
   "cell_type": "raw",
   "id": "cec90c54-1859-4154-8a28-78a598e4bc4b",
   "metadata": {},
   "source": [
    "Ques 7) Write a code to appended the number 10 to the list [1, 2, 3, 4]"
   ]
  },
  {
   "cell_type": "code",
   "execution_count": 1,
   "id": "e9f4b97d-de27-4423-9d38-00d974767635",
   "metadata": {},
   "outputs": [
    {
     "name": "stdout",
     "output_type": "stream",
     "text": [
      "[1, 2, 3, 4, 10]\n"
     ]
    }
   ],
   "source": [
    "my_list = [1, 2, 3, 4]\n",
    "my_list.append(10)\n",
    "print(my_list)\n"
   ]
  },
  {
   "cell_type": "raw",
   "id": "ac5520cf-514b-40c1-8555-09e530bed04e",
   "metadata": {},
   "source": [
    "Ques 8) Write a code to remove  the number  from the list [1, 2, 3, 4, 5]"
   ]
  },
  {
   "cell_type": "code",
   "execution_count": 2,
   "id": "fabc985d-ae8d-4877-8323-65d9136ba93f",
   "metadata": {},
   "outputs": [
    {
     "name": "stdout",
     "output_type": "stream",
     "text": [
      "[1, 2, 4, 5]\n"
     ]
    }
   ],
   "source": [
    "my_list = [1, 2, 3, 4, 5]\n",
    "my_list.remove(3)\n",
    "print(my_list)\n"
   ]
  },
  {
   "cell_type": "raw",
   "id": "aa0be5e7-2303-478e-a181-01f7054ad225",
   "metadata": {},
   "source": [
    "Ques 9) Write a code to access the second element in the list.['a', 'b', 'c', 'd']."
   ]
  },
  {
   "cell_type": "code",
   "execution_count": 3,
   "id": "0c898549-e251-47d0-8912-a388d981b446",
   "metadata": {},
   "outputs": [
    {
     "name": "stdout",
     "output_type": "stream",
     "text": [
      "b\n"
     ]
    }
   ],
   "source": [
    "my_list = ['a', 'b', 'c', 'd']\n",
    "second_element = my_list[1]\n",
    "print(second_element)\n"
   ]
  },
  {
   "cell_type": "raw",
   "id": "2ac7df67-7189-40f4-a740-4495751510d1",
   "metadata": {},
   "source": [
    "Ques 10)  Write a code to reverse the list[10, 20, 30, 40, 50]"
   ]
  },
  {
   "cell_type": "code",
   "execution_count": 4,
   "id": "91e28c23-e48a-4728-99db-08592ff80865",
   "metadata": {},
   "outputs": [
    {
     "name": "stdout",
     "output_type": "stream",
     "text": [
      "[50, 40, 30, 20, 10]\n"
     ]
    }
   ],
   "source": [
    "my_list = [10, 20, 30, 40, 50]\n",
    "my_list.reverse()\n",
    "print(my_list)\n"
   ]
  },
  {
   "cell_type": "raw",
   "id": "e1c3607b-ed95-452c-937e-3bb268719821",
   "metadata": {},
   "source": [
    "Ques 11) Write a code to create  a tuple with the element 100, 200, 300 and print it."
   ]
  },
  {
   "cell_type": "code",
   "execution_count": 1,
   "id": "a8906938-f441-4fb8-a95c-b7ccb9d8f72d",
   "metadata": {},
   "outputs": [
    {
     "name": "stdout",
     "output_type": "stream",
     "text": [
      "(100, 200, 300)\n"
     ]
    }
   ],
   "source": [
    "\n",
    "my_tuple = (100, 200, 300)\n",
    "\n",
    "# Printing the tuple\n",
    "print(my_tuple)\n"
   ]
  },
  {
   "cell_type": "raw",
   "id": "8b37e074-cc3f-405f-be04-29591127b5d5",
   "metadata": {},
   "source": [
    "Ques 12) Write a code to access the second-to-last element of the tuple ('red', 'green', 'blue', 'yellow')\n"
   ]
  },
  {
   "cell_type": "code",
   "execution_count": 2,
   "id": "35dbf28e-a78d-4241-b045-60f92c67d627",
   "metadata": {},
   "outputs": [
    {
     "name": "stdout",
     "output_type": "stream",
     "text": [
      "Second-to-last element: blue\n"
     ]
    }
   ],
   "source": [
    "\n",
    "colors = ('red', 'green', 'blue', 'yellow')\n",
    "second_last = colors[-2]\n",
    "print(\"Second-to-last element:\", second_last)\n"
   ]
  },
  {
   "cell_type": "raw",
   "id": "adb27d45-a3e8-4867-8453-ce276b8e18c6",
   "metadata": {},
   "source": [
    "Ques 13) Write a code to find the maximum number in the tuple(10, 20, 5, 15)"
   ]
  },
  {
   "cell_type": "code",
   "execution_count": 3,
   "id": "43c46037-27cf-46ce-8e9c-6ae36733463a",
   "metadata": {},
   "outputs": [
    {
     "name": "stdout",
     "output_type": "stream",
     "text": [
      "Maximum number: 20\n"
     ]
    }
   ],
   "source": [
    "\n",
    "numbers = (10, 20, 5, 15)\n",
    "max_num = max(numbers)\n",
    "print(\"Maximum number:\", max_num)\n"
   ]
  },
  {
   "cell_type": "raw",
   "id": "5bbce16c-a731-4756-a997-5785f85255c7",
   "metadata": {},
   "source": [
    "Ques 14)  Write a code to find the index of the element \"cat\" in the tuple ('dog', 'cat', 'rabbit')"
   ]
  },
  {
   "cell_type": "code",
   "execution_count": 4,
   "id": "6a181748-b141-4565-b682-b84e59d59b0f",
   "metadata": {},
   "outputs": [
    {
     "name": "stdout",
     "output_type": "stream",
     "text": [
      "Index of 'cat': 1\n"
     ]
    }
   ],
   "source": [
    "\n",
    "animals = ('dog', 'cat', 'rabbit')\n",
    "index_cat = animals.index('cat')\n",
    "print(\"Index of 'cat':\", index_cat)\n"
   ]
  },
  {
   "cell_type": "raw",
   "id": "d9c7343d-d9d3-4b1a-9f09-a499ca804272",
   "metadata": {},
   "source": [
    "Ques 15) Write a code to create a tuple containing three different fruits and check if \"kiwi\" is in it."
   ]
  },
  {
   "cell_type": "code",
   "execution_count": 5,
   "id": "e8fc03bc-7523-4810-943a-29739bfe303b",
   "metadata": {},
   "outputs": [
    {
     "name": "stdout",
     "output_type": "stream",
     "text": [
      "Kiwi is not in the tuple.\n"
     ]
    }
   ],
   "source": [
    "\n",
    "fruits = ('apple', 'banana', 'mango')\n",
    "if 'kiwi' in fruits:\n",
    "    print(\"Kiwi is in the tuple.\")\n",
    "else:\n",
    "    print(\"Kiwi is not in the tuple.\")\n"
   ]
  },
  {
   "cell_type": "raw",
   "id": "1f70036c-28b8-4fa8-9c31-1e03b9604a3c",
   "metadata": {},
   "source": [
    "Ques 16) Write a code to create a sets with the elements 'a', 'b', 'c'and print it."
   ]
  },
  {
   "cell_type": "code",
   "execution_count": 6,
   "id": "a4d8e263-eaba-448c-b09e-fd46f2660c58",
   "metadata": {},
   "outputs": [
    {
     "name": "stdout",
     "output_type": "stream",
     "text": [
      "{'b', 'a', 'c'}\n"
     ]
    }
   ],
   "source": [
    "\n",
    "my_set = {'a', 'b', 'c'}\n",
    "print(my_set)\n"
   ]
  },
  {
   "cell_type": "raw",
   "id": "f2703d6b-2814-4f0d-b178-f6d0f4688f93",
   "metadata": {},
   "source": [
    "Ques 17)  Write a code to clear all the element from the set{1,2,3,4,5}."
   ]
  },
  {
   "cell_type": "code",
   "execution_count": 7,
   "id": "47a5a8ed-6732-4fc6-ba2f-a739b7921142",
   "metadata": {},
   "outputs": [
    {
     "name": "stdout",
     "output_type": "stream",
     "text": [
      "set()\n"
     ]
    }
   ],
   "source": [
    "\n",
    "my_set = {1, 2, 3, 4, 5}\n",
    "my_set.clear()\n",
    "print(my_set)\n",
    "\n"
   ]
  },
  {
   "cell_type": "raw",
   "id": "6ca56017-dcb1-457c-a8c4-80b7c9030b6e",
   "metadata": {},
   "source": [
    "Ques 18) Write a code to remove the element 4 from the set{1, 2, 3, 4}"
   ]
  },
  {
   "cell_type": "code",
   "execution_count": 8,
   "id": "d8e7dd04-532a-4c77-ba6e-cfe8bcc994ef",
   "metadata": {},
   "outputs": [
    {
     "name": "stdout",
     "output_type": "stream",
     "text": [
      "{1, 2, 3}\n"
     ]
    }
   ],
   "source": [
    "\n",
    "my_set = {1, 2, 3, 4}\n",
    "\n",
    "# Remove the element 4\n",
    "my_set.remove(4)\n",
    "print(my_set)\n"
   ]
  },
  {
   "cell_type": "raw",
   "id": "96f9a86b-a2d0-49f2-9cc9-78928a307637",
   "metadata": {},
   "source": [
    "Ques 19) Write a code to find the union of two sets {1, 2, 3} and {3, 4, 5}"
   ]
  },
  {
   "cell_type": "code",
   "execution_count": 9,
   "id": "a5dd9850-cd1e-4986-9705-5ad6011e41f3",
   "metadata": {},
   "outputs": [
    {
     "name": "stdout",
     "output_type": "stream",
     "text": [
      "Union of sets: {1, 2, 3, 4, 5}\n"
     ]
    }
   ],
   "source": [
    "\n",
    "set1 = {1, 2, 3}\n",
    "set2 = {3, 4, 5}\n",
    "union_set = set1.union(set2)\n",
    "print(\"Union of sets:\", union_set)\n"
   ]
  },
  {
   "cell_type": "raw",
   "id": "af20d566-1f53-4b25-ae03-ff9126b0ac15",
   "metadata": {},
   "source": [
    "Ques 20) Write a code to find the intersection of two sets{1, 2, 3} and {2, 3, 4}"
   ]
  },
  {
   "cell_type": "code",
   "execution_count": 10,
   "id": "35b6e7e2-6aac-4909-b33b-66169d2bd215",
   "metadata": {},
   "outputs": [
    {
     "name": "stdout",
     "output_type": "stream",
     "text": [
      "Intersection of sets: {2, 3}\n"
     ]
    }
   ],
   "source": [
    "\n",
    "set1 = {1, 2, 3}\n",
    "set2 = {2, 3, 4}\n",
    "intersection_set = set1.intersection(set2)\n",
    "print(\"Intersection of sets:\", intersection_set)\n"
   ]
  },
  {
   "cell_type": "raw",
   "id": "096af92d-3be2-492b-9420-ff51938f40ef",
   "metadata": {},
   "source": [
    "Ques 21) Write a code to create a dictionary  with the keys \"name\", \"age\", \"city\", and print it"
   ]
  },
  {
   "cell_type": "code",
   "execution_count": 11,
   "id": "73f17b33-81dc-4a7e-ac03-4fb4a82155b7",
   "metadata": {},
   "outputs": [
    {
     "name": "stdout",
     "output_type": "stream",
     "text": [
      "{'name': 'Alice', 'age': 30, 'city': 'New York'}\n"
     ]
    }
   ],
   "source": [
    "\n",
    "person = {\n",
    "    \"name\": \"Alice\",\n",
    "    \"age\": 30,\n",
    "    \"city\": \"New York\"\n",
    "}\n",
    "\n",
    "print(person)\n"
   ]
  },
  {
   "cell_type": "raw",
   "id": "f97a4365-2e01-4ad7-996d-59fabec35562",
   "metadata": {},
   "source": [
    "Ques 22) Write a code to add a new key-value pair\"country\":\"USA\" to the dictionary {'name,:'Jhon','age':25}."
   ]
  },
  {
   "cell_type": "code",
   "execution_count": 12,
   "id": "40630ae4-0460-4766-b824-f2fe67b3601a",
   "metadata": {},
   "outputs": [
    {
     "name": "stdout",
     "output_type": "stream",
     "text": [
      "{'name': 'Jhon', 'age': 25, 'country': 'USA'}\n"
     ]
    }
   ],
   "source": [
    "\n",
    "person = {'name': 'Jhon', 'age': 25}\n",
    "person['country'] = 'USA'\n",
    "print(person)\n"
   ]
  },
  {
   "cell_type": "raw",
   "id": "de8fd311-ce35-4b75-82b4-b9309aa20237",
   "metadata": {},
   "source": [
    "Ques 23) Write a code to access the value associated with the key \"name\" in the dictionary {'name':'Alice','age':30}.\n"
   ]
  },
  {
   "cell_type": "code",
   "execution_count": 13,
   "id": "3677e2ef-e87e-4a06-8736-de8e022b5657",
   "metadata": {},
   "outputs": [
    {
     "name": "stdout",
     "output_type": "stream",
     "text": [
      "Value associated with key 'name': Alice\n"
     ]
    }
   ],
   "source": [
    "\n",
    "person = {'name': 'Alice', 'age': 30}\n",
    "name_value = person['name']\n",
    "print(\"Value associated with key 'name':\", name_value)\n"
   ]
  },
  {
   "cell_type": "raw",
   "id": "58d8e0f0-68f4-4e4e-8073-d4ecf9fa0d7b",
   "metadata": {},
   "source": [
    "Ques 24)Write a code to remove the key \"age\" from the dictionary{'name':'Bob','age':22,'city': 'New york'}"
   ]
  },
  {
   "cell_type": "code",
   "execution_count": 14,
   "id": "ca0ea85c-613b-4ed5-877c-33cd1d3ec9db",
   "metadata": {},
   "outputs": [
    {
     "name": "stdout",
     "output_type": "stream",
     "text": [
      "{'name': 'Bob', 'city': 'New york'}\n"
     ]
    }
   ],
   "source": [
    "\n",
    "person = {'name': 'Bob', 'age': 22, 'city': 'New york'}\n",
    "\n",
    "person.pop('age')\n",
    "print(person)\n"
   ]
  },
  {
   "cell_type": "raw",
   "id": "8eadab1f-16c4-4def-8d59-682f10c8cef3",
   "metadata": {},
   "source": [
    "Ques 25) Write a code to check  if the key \"city\" exists in the dictionary {'name':'Alice','city':'Paris'}."
   ]
  },
  {
   "cell_type": "code",
   "execution_count": 15,
   "id": "95289633-d21e-4a3b-b5e5-d20c6398a521",
   "metadata": {},
   "outputs": [
    {
     "name": "stdout",
     "output_type": "stream",
     "text": [
      "Key 'city' exists in the dictionary.\n"
     ]
    }
   ],
   "source": [
    "\n",
    "person = {'name': 'Alice', 'city': 'Paris'}\n",
    "if 'city' in person:\n",
    "    print(\"Key 'city' exists in the dictionary.\")\n",
    "else:\n",
    "    print(\"Key 'city' does not exist in the dictionary.\")\n"
   ]
  },
  {
   "cell_type": "raw",
   "id": "85a17563-b796-4e2b-a7f1-3ce6549bb1aa",
   "metadata": {},
   "source": [
    "Ques 26)Write a code to create a list,a tuple and a dictionary, and print them all."
   ]
  },
  {
   "cell_type": "code",
   "execution_count": 1,
   "id": "b325fb99-9070-4fef-9355-c3ddfb49b677",
   "metadata": {},
   "outputs": [
    {
     "name": "stdout",
     "output_type": "stream",
     "text": [
      "List: [1, 2, 3, 4, 5]\n",
      "Tuple: ('apple', 'banana', 'cherry')\n",
      "Dictionary: {'name': 'Alice', 'age': 25, 'city': 'New York'}\n"
     ]
    }
   ],
   "source": [
    "\n",
    "my_list = [1, 2, 3, 4, 5]\n",
    "my_tuple = ('apple', 'banana', 'cherry')\n",
    "my_dict = {'name': 'Alice', 'age': 25, 'city': 'New York'}\n",
    "print(\"List:\", my_list)\n",
    "print(\"Tuple:\", my_tuple)\n",
    "print(\"Dictionary:\", my_dict)\n"
   ]
  },
  {
   "cell_type": "raw",
   "id": "7bc32c95-e6dc-4510-a60e-f76d774c7665",
   "metadata": {},
   "source": [
    "Ques 27) Write a code to create a list of 5 random numbers between 1 and 100,sort it asscending order, and print the result.(replaced)."
   ]
  },
  {
   "cell_type": "code",
   "execution_count": 3,
   "id": "90962db7-a261-4d88-9b89-a6626b8a73dd",
   "metadata": {},
   "outputs": [
    {
     "name": "stdout",
     "output_type": "stream",
     "text": [
      "Sorted list of random numbers: [3, 34, 53, 80, 85]\n"
     ]
    }
   ],
   "source": [
    "\n",
    "# Create a list of 5 random numbers between 1 and 100\n",
    "random_numbers = [random.randint(1, 100) for _ in range(5)]\n",
    "\n",
    "# Sort the list in ascending order\n",
    "random_numbers.sort()\n",
    "print(\"Sorted list of random numbers:\", random_numbers)\n"
   ]
  },
  {
   "cell_type": "raw",
   "id": "78ee4bd6-2f56-4a6c-a3e1-0cb8f00d9bee",
   "metadata": {},
   "source": [
    "Ques 28) Write a code to create a list with strings and print the element at the third index. "
   ]
  },
  {
   "cell_type": "code",
   "execution_count": 4,
   "id": "164861fa-9e29-4e66-abb9-acaa6a2af3da",
   "metadata": {},
   "outputs": [
    {
     "name": "stdout",
     "output_type": "stream",
     "text": [
      "Element at third index: date\n"
     ]
    }
   ],
   "source": [
    "\n",
    "string_list = [\"apple\", \"banana\", \"cherry\", \"date\", \"elderberry\"]\n",
    "\n",
    "# Print the element at the third index (indexing starts from 0)\n",
    "print(\"Element at third index:\", string_list[3])\n"
   ]
  },
  {
   "cell_type": "raw",
   "id": "8d4f4a92-fcb7-4918-b3df-49381750afa4",
   "metadata": {},
   "source": [
    "Ques 29) Write a code to combine two dictionaries into one and print the result."
   ]
  },
  {
   "cell_type": "code",
   "execution_count": 5,
   "id": "0d8fd54e-3912-4c87-89a8-cef6ebe27914",
   "metadata": {},
   "outputs": [
    {
     "name": "stdout",
     "output_type": "stream",
     "text": [
      "Combined Dictionary: {'a': 1, 'b': 2, 'c': 3, 'd': 4}\n"
     ]
    }
   ],
   "source": [
    "# Define two dictionaries\n",
    "dict1 = {'a': 1, 'b': 2}\n",
    "dict2 = {'c': 3, 'd': 4}\n",
    "combined_dict = {**dict1, **dict2}\n",
    "\n",
    "print(\"Combined Dictionary:\", combined_dict)\n"
   ]
  },
  {
   "cell_type": "raw",
   "id": "bbd5cd2d-1801-44d1-8b50-1445f5e63113",
   "metadata": {},
   "source": [
    "Ques 30) Write a code to convert a list of strings into a set."
   ]
  },
  {
   "cell_type": "code",
   "execution_count": 6,
   "id": "aecec073-37dc-46ce-a294-0e8854a34a9d",
   "metadata": {},
   "outputs": [
    {
     "name": "stdout",
     "output_type": "stream",
     "text": [
      "Set: {'apple', 'cherry', 'banana'}\n"
     ]
    }
   ],
   "source": [
    "\n",
    "string_list = [\"apple\", \"banana\", \"cherry\", \"apple\", \"banana\"]\n",
    "string_set = set(string_list)\n",
    "\n",
    "print(\"Set:\", string_set)\n"
   ]
  },
  {
   "cell_type": "code",
   "execution_count": null,
   "id": "8fdb5c3f-27c8-43e5-99db-f9672bcb9742",
   "metadata": {},
   "outputs": [],
   "source": []
  },
  {
   "cell_type": "code",
   "execution_count": null,
   "id": "70a410ed-79a4-4002-9fdd-49b340a702e6",
   "metadata": {},
   "outputs": [],
   "source": []
  }
 ],
 "metadata": {
  "kernelspec": {
   "display_name": "Python 3 (ipykernel)",
   "language": "python",
   "name": "python3"
  },
  "language_info": {
   "codemirror_mode": {
    "name": "ipython",
    "version": 3
   },
   "file_extension": ".py",
   "mimetype": "text/x-python",
   "name": "python",
   "nbconvert_exporter": "python",
   "pygments_lexer": "ipython3",
   "version": "3.12.7"
  }
 },
 "nbformat": 4,
 "nbformat_minor": 5
}
